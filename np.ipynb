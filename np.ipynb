{
 "cells": [
  {
   "cell_type": "code",
   "execution_count": 4,
   "id": "b9632ebe-bfff-422c-a86a-494e7c6ae3cd",
   "metadata": {},
   "outputs": [
    {
     "name": "stdout",
     "output_type": "stream",
     "text": [
      "Enter numbers one by one or Type 'exit' to finish:\n"
     ]
    },
    {
     "name": "stdin",
     "output_type": "stream",
     "text": [
      "Enter number (or 'exit' to stop):  1\n",
      "Enter number (or 'exit' to stop):  2\n",
      "Enter number (or 'exit' to stop):  3\n",
      "Enter number (or 'exit' to stop):  4\n",
      "Enter number (or 'exit' to stop):  5\n",
      "Enter number (or 'exit' to stop):  6\n",
      "Enter number (or 'exit' to stop):  7\n",
      "Enter number (or 'exit' to stop):  exit\n"
     ]
    },
    {
     "name": "stdout",
     "output_type": "stream",
     "text": [
      "\n",
      "Your Array: [1 2 3 4 5 6 7]\n",
      "-----Now start Solving Question-----\n"
     ]
    }
   ],
   "source": [
    "# Import numpy\n",
    "import numpy as np\n",
    "\n",
    "# Step 1: Let's we take the array number as input by the users\n",
    "\n",
    "numbers = []\n",
    "print(\"Enter numbers one by one or Type 'exit' to finish:\")\n",
    "while True:\n",
    "    user_input = input(\"Enter number (or 'exit' to stop): \")\n",
    "    if user_input.lower() == \"exit\":\n",
    "        break\n",
    "    else:\n",
    "        try:\n",
    "            numbers.append(int(user_input))\n",
    "        except ValueError:\n",
    "            print(\"Invalid input! Please enter an integer or 'exit'.\")\n",
    "\n",
    "# Step 2: Convert list to array\n",
    "\n",
    "arr = np.array(numbers)\n",
    "print(\"\\nYour Array:\", arr)\n",
    "print(\"-----Now start Solving Question-----\")\n"
   ]
  },
  {
   "cell_type": "code",
   "execution_count": 5,
   "id": "31927bc2-ae1f-4716-83ce-3292e8673182",
   "metadata": {},
   "outputs": [
    {
     "name": "stdout",
     "output_type": "stream",
     "text": [
      "Average: 4.0\n"
     ]
    }
   ],
   "source": [
    "# 1. Calculate average\n",
    "\n",
    "average = np.mean(arr)\n",
    "print(\"Average:\", average)\n"
   ]
  },
  {
   "cell_type": "code",
   "execution_count": 7,
   "id": "54abecae-9df4-4f63-9545-88a716e1c53e",
   "metadata": {},
   "outputs": [
    {
     "name": "stdout",
     "output_type": "stream",
     "text": [
      "Sum : 28\n"
     ]
    }
   ],
   "source": [
    "\n",
    "# 2. Calculate sum o\n",
    "\n",
    "total_sum = np.sum(arr)\n",
    "print(\"Sum :\", total_sum)\n"
   ]
  },
  {
   "cell_type": "code",
   "execution_count": 11,
   "id": "853883a1-f582-485a-8eff-3f64bd6375e1",
   "metadata": {},
   "outputs": [
    {
     "name": "stdout",
     "output_type": "stream",
     "text": [
      "Variance: 4.0\n"
     ]
    }
   ],
   "source": [
    "# 3. Calculate variance \n",
    "\n",
    "variance = np.var(arr)\n",
    "print(\"Variance:\", variance)"
   ]
  },
  {
   "cell_type": "code",
   "execution_count": 12,
   "id": "959c4e92-a92f-4aa2-9c27-b5278509f6a4",
   "metadata": {},
   "outputs": [
    {
     "name": "stdout",
     "output_type": "stream",
     "text": [
      "Power of arr^exponents: [     1      4     27    256   3125  46656 823543]\n"
     ]
    }
   ],
   "source": [
    "# 4. Calculate power (where one array is base  another array is exponent)\n",
    "#    Here, let’s create another array of exponents\n",
    "\n",
    "exponents = ([1, 2, 3, 4, 5, 6, 7])\n",
    "power_result = np.power(arr, exponents)\n",
    "\n",
    "print(\"Power of arr^exponents:\", power_result)\n"
   ]
  },
  {
   "cell_type": "code",
   "execution_count": 13,
   "id": "19e78254-3a68-4df3-bd5a-a8db87e97e38",
   "metadata": {},
   "outputs": [
    {
     "name": "stdout",
     "output_type": "stream",
     "text": [
      "Maximum val: 7\n"
     ]
    }
   ],
   "source": [
    " # 5. Calculate maximum \n",
    "\n",
    "\n",
    "maximum = np.max(arr)\n",
    "print(\"Maximum value:\", maximum)\n"
   ]
  },
  {
   "cell_type": "code",
   "execution_count": 14,
   "id": "a96a69f6-62ed-4c06-adf3-a5dbe12fc3f2",
   "metadata": {},
   "outputs": [
    {
     "name": "stdout",
     "output_type": "stream",
     "text": [
      "Median: 4.0\n"
     ]
    }
   ],
   "source": [
    "# 6. Calculate median \n",
    "\n",
    "median = np.median(arr)\n",
    "print(\"Median:\", median)\n"
   ]
  },
  {
   "cell_type": "code",
   "execution_count": 15,
   "id": "6489ed26-b327-48fc-9f2c-96f0ad7a5f99",
   "metadata": {},
   "outputs": [
    {
     "name": "stdout",
     "output_type": "stream",
     "text": [
      "Minimum : 1\n"
     ]
    }
   ],
   "source": [
    "# 7. Calculate minimum\n",
    "\n",
    "minimum = np.min(arr)\n",
    "print(\"Minimum :\", minimum)\n",
    "\n",
    "\n"
   ]
  },
  {
   "cell_type": "code",
   "execution_count": 19,
   "id": "59691e6f-4478-46bd-bb9a-cd38d55f3671",
   "metadata": {},
   "outputs": [
    {
     "name": "stdout",
     "output_type": "stream",
     "text": [
      "50th Percentile : 4.0\n"
     ]
    }
   ],
   "source": [
    "# 8. Calculate the percentile\n",
    "\n",
    "percentile_50 = np.percentile(arr,50)\n",
    "print(\"50th Percentile :\", percentile_50)\n",
    "\n",
    "\n"
   ]
  },
  {
   "cell_type": "code",
   "execution_count": 20,
   "id": "29cd6ea7-768a-4605-92b4-532f5ba4ba24",
   "metadata": {},
   "outputs": [
    {
     "name": "stdout",
     "output_type": "stream",
     "text": [
      "Standard Deviation: 2.0\n"
     ]
    }
   ],
   "source": [
    "# 9. Calculate the standard deviation\n",
    "\n",
    "std_dev = np.std(arr)\n",
    "print(\"Standard Deviation:\", std_dev)\n"
   ]
  },
  {
   "cell_type": "code",
   "execution_count": 21,
   "id": "b77cbf54-d12a-49a6-8f7e-c5b994ad5361",
   "metadata": {},
   "outputs": [
    {
     "name": "stdout",
     "output_type": "stream",
     "text": [
      "HM: 2.6997245179063363\n"
     ]
    }
   ],
   "source": [
    "# 10.  harmonic mean  (We can calculate manually as well:\n",
    "\n",
    "\n",
    "harmonic_mean = len(arr) / np.sum(1.0/arr)\n",
    "print(\"HM:\", harmonic_mean)"
   ]
  },
  {
   "cell_type": "code",
   "execution_count": null,
   "id": "e186d08b-5e10-43e3-ae11-dd5b22fbc006",
   "metadata": {},
   "outputs": [],
   "source": []
  },
  {
   "cell_type": "code",
   "execution_count": null,
   "id": "60d47a92-6789-43e2-ac5f-a94089077579",
   "metadata": {},
   "outputs": [],
   "source": []
  },
  {
   "cell_type": "code",
   "execution_count": null,
   "id": "6c488241-46f0-4405-8435-155fd9fe81e9",
   "metadata": {},
   "outputs": [],
   "source": []
  }
 ],
 "metadata": {
  "kernelspec": {
   "display_name": "Python 3 (ipykernel)",
   "language": "python",
   "name": "python3"
  },
  "language_info": {
   "codemirror_mode": {
    "name": "ipython",
    "version": 3
   },
   "file_extension": ".py",
   "mimetype": "text/x-python",
   "name": "python",
   "nbconvert_exporter": "python",
   "pygments_lexer": "ipython3",
   "version": "3.10.18"
  }
 },
 "nbformat": 4,
 "nbformat_minor": 5
}
